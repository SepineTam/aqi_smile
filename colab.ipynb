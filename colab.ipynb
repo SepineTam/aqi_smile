{
 "cells": [
  {
   "metadata": {},
   "cell_type": "markdown",
   "source": "## 安装依赖",
   "id": "b3ccf9d796a9a6d7"
  },
  {
   "cell_type": "code",
   "execution_count": null,
   "id": "initial_id",
   "metadata": {
    "collapsed": true
   },
   "outputs": [],
   "source": "!pip install -r requirements.txt"
  },
  {
   "metadata": {},
   "cell_type": "markdown",
   "source": "## 修改环境变量",
   "id": "8130faa69a5eb81f"
  },
  {
   "metadata": {
    "jupyter": {
     "is_executing": true
    }
   },
   "cell_type": "code",
   "source": "!mv .demo.env .env",
   "id": "652a4835a3b3cfb0",
   "outputs": [],
   "execution_count": null
  },
  {
   "metadata": {},
   "cell_type": "code",
   "outputs": [],
   "execution_count": null,
   "source": [
    "def set(key, value):\n",
    "    with open('.env', 'r') as file:\n",
    "        lines = file.readlines()\n",
    "    \n",
    "    for i, line in enumerate(lines):\n",
    "        if line.startswith(f\"{key}=\"):\n",
    "            lines[i] = f\"{key}={value}\\n\"\n",
    "            break\n",
    "    \n",
    "    with open('.env', 'w') as file:\n",
    "        file.writelines(lines)        "
   ],
   "id": "1594548911bf37e7"
  },
  {
   "metadata": {},
   "cell_type": "code",
   "outputs": [],
   "execution_count": null,
   "source": [
    "# 这里放你的KEY和ID\n",
    "API_KEY = '<KEY>'\n",
    "PUBLIC_ID = '<PUBLIC_ID>'\n",
    "set(\"API_KEY\", API_KEY)\n",
    "set(\"PUBLIC_ID\", PUBLIC_ID)"
   ],
   "id": "b2c173bc8a7f669"
  },
  {
   "metadata": {},
   "cell_type": "markdown",
   "source": "## 运行",
   "id": "9f61712ebf539bbb"
  },
  {
   "metadata": {},
   "cell_type": "code",
   "outputs": [],
   "execution_count": null,
   "source": "!python main.py",
   "id": "cc2b3b94f3e823a5"
  }
 ],
 "metadata": {
  "kernelspec": {
   "display_name": "Python 3",
   "language": "python",
   "name": "python3"
  },
  "language_info": {
   "codemirror_mode": {
    "name": "ipython",
    "version": 2
   },
   "file_extension": ".py",
   "mimetype": "text/x-python",
   "name": "python",
   "nbconvert_exporter": "python",
   "pygments_lexer": "ipython2",
   "version": "2.7.6"
  }
 },
 "nbformat": 4,
 "nbformat_minor": 5
}
